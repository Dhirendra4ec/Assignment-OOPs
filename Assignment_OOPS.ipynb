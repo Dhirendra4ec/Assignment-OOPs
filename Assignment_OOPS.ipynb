{
  "cells": [
    {
      "cell_type": "markdown",
      "id": "79e3d1d5",
      "metadata": {
        "id": "79e3d1d5"
      },
      "source": [
        "ASSIGNMENT OOPs"
      ]
    },
    {
      "cell_type": "markdown",
      "id": "e1de6629",
      "metadata": {
        "id": "e1de6629"
      },
      "source": [
        "Python OOPs Questions"
      ]
    },
    {
      "cell_type": "markdown",
      "id": "f7306cf4",
      "metadata": {
        "id": "f7306cf4"
      },
      "source": [
        "Que 1. What is Object-Oriented Programming (OOP)?"
      ]
    },
    {
      "cell_type": "markdown",
      "id": "2ca5b21e",
      "metadata": {
        "id": "2ca5b21e"
      },
      "source": [
        "ANS : Object-Oriented Programming (OOP) in Python is a programming paradigm that structures software around objects rather than actions and logic. In OOP, objects are instances of classes, which act as blueprints defining the properties (attributes) and behaviors (methods) that the objects will have Classes and objects.\n",
        "- Classes and Objects :\n",
        "\n",
        "- Class: A template or blueprint for creating objects. It defines the attributes and methods that the objects created from it will have.\n",
        "\n",
        "- Object: An instance of a class. Each object can have unique attribute values but shares the same methods defined in its class.\n",
        "\n",
        "- Encapsulation :\n",
        "\n",
        "  Bundling data (attributes) and methods (functions) that operate on the data within a single unit (the class), and controlling access to the internal state.\n",
        "\n",
        "- Inheritance :\n",
        "\n",
        "  Allows a new class (subclass) to inherit attributes and methods from an existing class (superclass), promoting code reuse and hierarchical organization.\n",
        "\n",
        "- Polymorphism :\n",
        "\n",
        "  The ability of different classes to be treated as instances of a common superclass. It allows methods to be defined in multiple ways, providing flexibility and a unified interface.\n",
        "\n",
        "- Abstraction :\n",
        "\n",
        "  Hiding complex implementation details and exposing only the essential features of an object, simplifying the interaction with it"
      ]
    },
    {
      "cell_type": "markdown",
      "id": "277dd0e0",
      "metadata": {
        "id": "277dd0e0"
      },
      "source": [
        "Que 2. What is a class in OOP?\n",
        "\n",
        "ANS : In object-oriented programming (OOP), a class is a blueprint or template that defines the structure, attributes (data), and behaviors (methods) that objects created from it will have. It acts as a container for organizing related data and functions into a cohesive unit, allowing you to create multiple instances (objects) that share the same structure and behavior but can have unique data values."
      ]
    },
    {
      "cell_type": "markdown",
      "id": "5305bed8",
      "metadata": {
        "id": "5305bed8"
      },
      "source": [
        "Que 3. What is an object in OOP?\n",
        "\n",
        "ANS : In object-oriented programming (OOP), an object is a specific instance of a class, created using the class as a blueprint. Each object contains its own data (called attributes or properties) and can perform actions (called methods or behaviors) defined by its class.\n",
        "\n",
        "Objects are the fundamental units of OOP and represent real-world entities or concepts within a program. For example, if you have a class called Person, you can create multiple objects (instances) of that class, each with its own unique name, age, or other attributes, but all sharing the same structure and behaviors defined by the Person class.\n",
        "\n",
        "Each object has a unique identity in memory and can interact with other objects through their methods and properties. This approach allows for code reusability, modularity, and encapsulation."
      ]
    },
    {
      "cell_type": "markdown",
      "id": "75fe191a",
      "metadata": {
        "id": "75fe191a"
      },
      "source": [
        "Que 4. What is the difference between abstraction and encapsulation?\n",
        "\n",
        "ANS : Abstraction and encapsulation are both foundational concepts in object-oriented programming (OOP), but they serve different purposes and address different aspects of software design.\n",
        "\n",
        " - Encapsulation :\n",
        "\n",
        "  Bundling data (attributes) and methods (functions) that operate on the data within a single unit (the class), and controlling access to the internal state.\n",
        "\n",
        "  - Abstraction :\n",
        "\n",
        "  Hiding complex implementation details and exposing only the essential features of an object, simplifying the interaction with it\n"
      ]
    },
    {
      "cell_type": "markdown",
      "id": "824e1802",
      "metadata": {
        "id": "824e1802"
      },
      "source": [
        "Abstraction is about hiding complexity and exposing only the essential features relevant to the user.\n",
        "\n",
        "Encapsulation is about protecting an object’s internal state and only allowing controlled access to it."
      ]
    },
    {
      "cell_type": "markdown",
      "id": "8ae8404d",
      "metadata": {
        "id": "8ae8404d"
      },
      "source": [
        "Que 5. What are dunder methods in Python?\n",
        "\n",
        "ANS : Dunder methods in Python are special methods whose names start and end with double underscores (hence \"dunder,\" short for \"double underscore\"). These methods allow instances of a class to interact with built-in Python functions and operators, making it possible to customize how objects behave in standard operations.\n",
        "\n",
        "Key Points About Dunder Methods:\n",
        "\n",
        "Name Convention: All dunder methods are named with double underscores at both ends, like __init__, __str__, or __add__.\n",
        "\n",
        "Purpose: They enable classes to define custom behavior for operations such as object initialization, arithmetic, comparison, string representation, and more.\n",
        "\n",
        "Implicit Invocation: Dunder methods are generally not called directly by the programmer. Instead, Python calls them implicitly in response to certain events or operator uses.\n",
        "\n",
        "Examples:\n",
        "\n",
        "__init__: Initializes an object when it is created.\n",
        "\n",
        "__str__: Defines the string representation of an object when using print() or str().\n",
        "\n",
        "__add__: Defines what happens when the + operator is used on instances of the class.\n",
        "\n",
        "__len__: Called by the len() function to determine the length of an object.\n",
        "\n",
        "Commonly Used Categories: Arithmetic, comparison, string representation, attribute management, iteration, and context management.\n",
        "\n",
        "By defining dunder methods, you can make your custom objects behave more like built-in Python types, increasing code clarity and flexibility."
      ]
    },
    {
      "cell_type": "markdown",
      "id": "330f83f1",
      "metadata": {
        "id": "330f83f1"
      },
      "source": [
        "Que 6. Explain the concept of inheritance in OOP?\n",
        "\n",
        "ANS : Inheritance is a core concept in object-oriented programming (OOP) that allows a new class—called a subclass (or child class)—to inherit attributes and methods from an existing class—called a superclass (or parent class). This means the subclass automatically has access to the properties and behaviors defined in the superclass, promoting code reuse and establishing a hierarchical relationship between classes.\n",
        "\n",
        "With inheritance, you avoid duplicating code by defining common attributes and methods in the superclass and then extending them in subclasses as needed. Subclasses can also introduce their own unique attributes and methods, or override inherited ones to provide specialized functionality."
      ]
    },
    {
      "cell_type": "markdown",
      "id": "910eb2f9",
      "metadata": {
        "id": "910eb2f9"
      },
      "source": [
        "Que 7. What is polymorphism in OOP?\n",
        "\n",
        "ANS : Polymorphism in object-oriented programming (OOP) is the ability of different objects to respond to the same method or interface in their own unique ways. The term comes from Greek, where \"poly\" means \"many\" and \"morph\" means \"forms,\" so polymorphism literally means \"many forms\".\n",
        "\n",
        "In practice, polymorphism allows objects of different classes, which share a common superclass or interface, to be treated as instances of that superclass or interface. This means you can use the same method name across different objects, and each object will execute its own version of the method.\n",
        "\n"
      ]
    },
    {
      "cell_type": "markdown",
      "id": "c9b81157",
      "metadata": {
        "id": "c9b81157"
      },
      "source": [
        "Que 8. How is encapsulation achieved in Python?\n",
        "\n",
        "ANS : Encapsulation in Python is achieved by bundling data (attributes) and the methods (functions) that operate on that data within a single unit—a class—and controlling access to its internal components. Unlike languages such as Java or C++, Python does not enforce strict access control with keywords like public, private, or protected. Instead, Python relies on naming conventions and developer discipline to indicate and manage access levels.\n",
        "\n",
        "Key Mechanisms for Encapsulation in Python:\n",
        "\n",
        "- Naming Conventions:\n",
        "\n",
        "  - Public: Attributes and methods are public by default and can be accessed from anywhere.\n",
        "\n",
        "  - Protected: Prefixing with a single underscore (_attribute) indicates a protected member, which is a convention for internal or subclass use only—not enforced by the language.\n",
        "\n",
        "  - Private: Prefixing with double underscores (__attribute) makes Python perform name mangling, which discourages (but does not prevent) access from outside the class.\n",
        "\n",
        "- Getter and Setter Methods:\n",
        "\n",
        "Python encourages the use of methods to access or modify internal data, often using the @property decorator for controlled attribute access and to maintain data integrity."
      ]
    },
    {
      "cell_type": "code",
      "execution_count": null,
      "id": "14c2946b",
      "metadata": {
        "id": "14c2946b",
        "outputId": "3ccfb312-4fe8-483d-94f6-69735227b0bd"
      },
      "outputs": [
        {
          "data": {
            "text/plain": [
              "'The Great Indian Novel'"
            ]
          },
          "execution_count": 4,
          "metadata": {},
          "output_type": "execute_result"
        }
      ],
      "source": [
        "# Example :\n",
        "class Book:\n",
        "    def __init__(self, title):\n",
        "        self.__title = title\n",
        "    @property\n",
        "    def title(self):\n",
        "        return self.__title\n",
        "    @title.setter\n",
        "    def title(self, value):\n",
        "        self.__title = value\n",
        "\n",
        "obj = Book(\"The Great Indian Novel\")\n",
        "obj.title"
      ]
    },
    {
      "cell_type": "markdown",
      "id": "8a4b467c",
      "metadata": {
        "id": "8a4b467c"
      },
      "source": [
        "Que 9. What is a constructor in Python?\n",
        "\n",
        "ANS : A constructor in Python is a special method named __init__ that is automatically called when an object of a class is created. Its main purpose is to initialize the object’s attributes (data members) and perform any setup required before the object is used.\n",
        "\n",
        "Key Points:\n",
        "\n",
        "Name: Always called __init__ (with double underscores).\n",
        "\n",
        "Invocation: Called automatically when an object is instantiated.\n",
        "\n",
        "Parameters: The first parameter is always self, which refers to the current instance of the class. Additional parameters can be defined to accept values for initializing attributes.\n",
        "\n",
        "Purpose: Assigns values to the object’s attributes or performs any necessary initialization.\n",
        "\n",
        "Types:\n",
        "\n",
        "Default Constructor: Does not take any arguments (other than self) and initializes attributes to default values.\n",
        "\n",
        "Parameterized Constructor: Takes arguments (in addition to self) to initialize attributes with specific values provided at object creation."
      ]
    },
    {
      "cell_type": "markdown",
      "id": "139ba4e1",
      "metadata": {
        "id": "139ba4e1"
      },
      "source": [
        "Que 10. What are class and static methods in Python?\n",
        "\n",
        "ANS : In Python, class methods and static methods are special types of methods defined within a class, each serving distinct purposes and differing from regular instance methods.\n",
        "\n",
        " - Class Methods\n",
        "\n",
        "Definition: A class method is bound to the class and not the instance. It is defined using the @classmethod decorator.\n",
        "\n",
        "First Parameter: The first parameter is always cls, which refers to the class itself, not an instance.\n",
        "\n",
        "Access: Can access and modify class-level attributes and state, but not instance-specific data.\n",
        "\n",
        "Use Cases: Commonly used for factory methods (alternative constructors), class-level operations, or when you need to perform actions that affect the entire class rather than individual objects.\n",
        "\n",
        " - Static Methods\n",
        "\n",
        "Definition: A static method is independent of both the class and its instances. It is defined using the @staticmethod decorator.\n",
        "\n",
        "First Parameter: Does not take self or cls as the first parameter.\n",
        "\n",
        "Access: Cannot access or modify class or instance state. It works like a regular function but is defined inside a class for organizational purposes.\n",
        "\n",
        "Use Cases: Used for utility functions that are logically related to the class but do not require access to class or instance data."
      ]
    },
    {
      "cell_type": "markdown",
      "id": "7d4582f0",
      "metadata": {
        "id": "7d4582f0"
      },
      "source": [
        "Que 11. What is method overloading in Python?\n",
        "\n",
        "ANS : Method overloading in object-oriented programming generally refers to the ability to define multiple methods in a class with the same name but different parameters (either in number or type), allowing objects to respond differently depending on the arguments passed."
      ]
    },
    {
      "cell_type": "code",
      "execution_count": null,
      "id": "349191ad",
      "metadata": {
        "id": "349191ad"
      },
      "outputs": [],
      "source": [
        "class Student:\n",
        "    def student(self):\n",
        "        print(\"Wecome to pwskills class\")\n",
        "    def student(self, name = \"\"):\n",
        "        print(\"Wecome to pwskills class\", name)\n",
        "    def student(self, name = \"\", course = \"\"):\n",
        "        print(\"Wecome to pwskills class\", name, course)"
      ]
    },
    {
      "cell_type": "markdown",
      "id": "8430e533",
      "metadata": {
        "id": "8430e533"
      },
      "source": [
        "Que 12. What is method overriding in OOP?\n",
        "\n",
        "ANS : Method overriding in object-oriented programming (OOP) is a feature that allows a subclass (child class) to provide a specific implementation of a method that is already defined in its superclass (parent class). This means that if a method in the superclass is not suitable for the subclass, the subclass can redefine the method with the same name and signature as the superclass method.\n",
        "\n",
        "When the method is called on an object of the subclass, the version defined in the subclass is executed instead of the one in the superclass. This enables polymorphism, where a single method name can exhibit different behaviors depending on the object’s class."
      ]
    },
    {
      "cell_type": "code",
      "execution_count": null,
      "id": "9f1e544b",
      "metadata": {
        "id": "9f1e544b"
      },
      "outputs": [],
      "source": [
        "class Animal:\n",
        "    def sound(self):\n",
        "        print(\"Animal Sound\")\n",
        "class Cat(Animal):\n",
        "    def sound(self):\n",
        "        print(\"cat meows\")"
      ]
    },
    {
      "cell_type": "markdown",
      "id": "30f78743",
      "metadata": {
        "id": "30f78743"
      },
      "source": [
        "Que 13. What is a property decorator in Python?\n",
        "\n",
        "ANS : The property decorator in Python is a built-in decorator (@property) that allows you to define methods in a class which can be accessed like attributes, while providing the ability to add logic for getting, setting, or deleting values. This approach helps in encapsulating data and controlling access to class attributes, often used for validation, transformation, or to maintain data integrity.\n",
        "\n",
        "Here’s how it works:\n",
        "\n",
        "Getter: The @property decorator is used above a method to make it act as a getter for an attribute. You can access it like an instance variable, without parentheses.\n",
        "\n",
        "Setter: By using the @attribute_name.setter decorator, you can define how the attribute should be set, allowing you to add logic such as validation.\n",
        "\n",
        "Deleter: The @attribute_name.deleter decorator lets you define custom behavior when the attribute is deleted."
      ]
    },
    {
      "cell_type": "code",
      "execution_count": null,
      "id": "182b9ecf",
      "metadata": {
        "id": "182b9ecf"
      },
      "outputs": [],
      "source": [
        "# Example:\n",
        "\n",
        "class Circle:\n",
        "    def __init__(self, radius):\n",
        "        self._radius = radius\n",
        "\n",
        "    @property\n",
        "    def radius(self):\n",
        "        return self._radius\n",
        "\n",
        "    @radius.setter\n",
        "    def radius(self, value):\n",
        "        if value <= 0:\n",
        "            raise ValueError(\"Radius must be positive.\")\n",
        "        self._radius = value\n",
        "\n",
        "    @property\n",
        "    def area(self):\n",
        "        return 3.14 * (self._radius ** 2)\n"
      ]
    },
    {
      "cell_type": "markdown",
      "id": "4a89a361",
      "metadata": {
        "id": "4a89a361"
      },
      "source": [
        "Que 14.  Why is polymorphism important in OOP?\n",
        "\n",
        "ANS : Polymorphism is important in object-oriented programming (OOP) because it enables code to be more flexible, reusable, and maintainable by allowing objects of different classes to be treated as instances of a common superclass or interface. This means you can write generic code that works with a wide range of object types, without needing to know their specific details.\n",
        "\n",
        "Key reasons why polymorphism is important include:\n",
        "\n",
        "- Code Reusability: You can reuse methods and interfaces across different classes, reducing redundancy and simplifying code structure.\n",
        "\n",
        "- Extensibility: New classes can be added easily, and existing code can accommodate them with minimal or no changes.\n",
        "\n",
        "- Maintainability: Polymorphism makes code easier to maintain and update, as changes in one class don’t require widespread modifications to other parts of the program.\n",
        "\n",
        "- Flexibility and Adaptability: It allows for dynamic method binding, so the appropriate method is called at runtime based on the actual object’s type, supporting more adaptable and robust designs.\n",
        "\n",
        "- Simplified Code: Reduces the need for complex conditional statements and repetitive code, making programs cleaner and more readable.\n",
        "\n",
        "Overall, polymorphism is a core pillar of OOP that supports the creation of scalable, modular, and efficient software systems."
      ]
    },
    {
      "cell_type": "markdown",
      "id": "436a4459",
      "metadata": {
        "id": "436a4459"
      },
      "source": [
        "Que 15. What is an abstract class in Python?\n",
        "\n",
        "ANS : An abstract class in Python is a class that cannot be instantiated on its own and is designed to serve as a blueprint for other classes. Its main purpose is to define a common interface and enforce certain methods that must be implemented by any subclass derived from it.\n",
        "\n",
        "To create an abstract class in Python, you typically:\n",
        "\n",
        "Import the ABC class and abstractmethod decorator from the abc module.\n",
        "\n",
        "Subclass your abstract class from ABC.\n",
        "\n",
        "Use the @abstractmethod decorator to mark methods that must be implemented by any concrete (non-abstract) subclass.\n",
        "\n",
        "Key Features:\n",
        "\n",
        "Cannot be instantiated: You cannot create objects directly from an abstract class; it is meant to be subclassed.\n",
        "\n",
        "Abstract methods: Methods marked with @abstractmethod have no implementation in the abstract class but must be implemented in any subclass.\n",
        "\n",
        "Ensures consistency: This approach guarantees that all subclasses provide specific functionality, making your code more robust and predictable."
      ]
    },
    {
      "cell_type": "markdown",
      "id": "9d9ab880",
      "metadata": {
        "id": "9d9ab880"
      },
      "source": [
        "Que 16. What are the advantages of OOP?\n",
        "\n",
        "ANS :\n",
        "Object-Oriented Programming (OOP) offers several key advantages that make it a preferred paradigm for modern software development:\n",
        "\n",
        "Modularity and Code Organization: OOP allows complex systems to be broken down into smaller, manageable objects, each responsible for a specific function. This makes code easier to understand, maintain, and troubleshoot.\n",
        "\n",
        "Encapsulation and Security: Data and methods are bundled within objects, restricting direct access to internal details. This protects sensitive data and reduces the risk of unintended data corruption.\n",
        "\n",
        "Code Reusability: Through inheritance, new classes can reuse properties and methods from existing classes, reducing redundancy and saving development time.\n",
        "\n",
        "Improved Collaboration: Different developers can work on separate objects or modules independently, streamlining teamwork and minimizing duplication of effort.\n",
        "\n",
        "Flexibility and Extensibility: Polymorphism allows objects to be treated as instances of their parent class, making it easy to extend or adapt code for new requirements.\n",
        "\n",
        "Easier Troubleshooting and Maintenance: Errors are often isolated within specific objects, making debugging and maintenance more straightforward.\n",
        "\n",
        "Scalability: OOP’s modular design enables software systems to grow and adapt more easily as requirements change.\n",
        "\n",
        "Reduced Data Redundancy: Common functionality can be inherited, minimizing repetition and ensuring consistency.\n",
        "\n",
        "Enhanced Productivity: Reusable code and modular design reduce development time and effort, boosting overall productivity.\n"
      ]
    },
    {
      "cell_type": "markdown",
      "id": "162a0c33",
      "metadata": {
        "id": "162a0c33"
      },
      "source": [
        "Que 17. What is the difference between a class variable and an instance variable?\n",
        "\n",
        "ANS : The difference between a class variable and an instance variable in object-oriented programming, including Python, is as follows:\n",
        "\n",
        "- Class Variable:\n",
        "\n",
        "Definition: Class variables are defined within the class but outside any methods.\n",
        "\n",
        "Access: They are shared by all instances (objects) of the class.\n",
        "\n",
        "Modification: Changing a class variable affects all instances.\n",
        "\n",
        "Memory: Only one copy exists per class, regardless of how many instances are created.\n",
        "\n",
        "Usage: Used for data or values that should be consistent across all instances, such as configuration settings or counters for the number of objects created.\n",
        "\n",
        "- Instance Variable:\n",
        "\n",
        "Definition: Instance variables are defined within methods (usually __init__) and assigned using self.\n",
        "\n",
        "Access: Each object gets its own copy of instance variables.\n",
        "\n",
        "Modification: Changing an instance variable affects only that specific object.\n",
        "\n",
        "Memory: Each instance has its own unique copy, consuming memory for each object.\n",
        "\n",
        "Usage: Used for data that is unique to each object, such as individual attributes like name or age."
      ]
    },
    {
      "cell_type": "markdown",
      "id": "98d8cf9b",
      "metadata": {
        "id": "98d8cf9b"
      },
      "source": [
        "Que 18. What is multiple inheritance in Python?\n",
        "\n",
        "ANS : Multiple inheritance in Python is a feature that allows a class to inherit attributes and methods from more than one parent class. This means a single child class can combine behaviors and properties from several base classes, making it possible to create more versatile and reusable code.\n",
        "\n",
        "Key Points:\n",
        "\n",
        "Syntax: You define multiple inheritance by listing all parent classes inside the parentheses when declaring the child class, like class Child(Parent1, Parent2, Parent3):.\n",
        "\n",
        "Behavior: The child class automatically gains access to all the methods and attributes defined in each parent class, unless overridden in the child class itself.\n",
        "\n",
        "Use Case: Useful for modeling complex relationships where an object logically belongs to multiple categories, such as a Bat (both Mammal and WingedAnimal), or a multimedia file (both Video and Audio).\n",
        "\n",
        "Complexity: While powerful, multiple inheritance can introduce complexity, especially if parent classes have methods or attributes with the same name (the \"diamond problem\"), which Python resolves with its method resolution order (MRO)."
      ]
    },
    {
      "cell_type": "code",
      "execution_count": null,
      "id": "231c5b97",
      "metadata": {
        "id": "231c5b97",
        "outputId": "66c3b917-2fb8-4572-9c2b-90b295bce1c4"
      },
      "outputs": [
        {
          "name": "stdout",
          "output_type": "stream",
          "text": [
            "Method1 from ParentClass1\n",
            "Method2 form ParentClass2\n",
            "Child method\n"
          ]
        }
      ],
      "source": [
        "class ParentClass1:\n",
        "    def method1(self):\n",
        "        print(\"Method1 from ParentClass1\")\n",
        "\n",
        "class PrentClass2:\n",
        "    def method2(self):\n",
        "        print(\"Method2 form ParentClass2\")\n",
        "\n",
        "class ChildClass(ParentClass1,PrentClass2):\n",
        "    def child_method(self):\n",
        "        print(\"Child method\")\n",
        "\n",
        "child = ChildClass()\n",
        "child.method1()\n",
        "child.method2()\n",
        "child.child_method()"
      ]
    },
    {
      "cell_type": "markdown",
      "id": "5ed0511b",
      "metadata": {
        "id": "5ed0511b"
      },
      "source": [
        "Que 19. Explain the purpose of ‘’__str__’ and ‘__repr__’ ‘ methods in Python?\n",
        "\n",
        "ANS : The __str__ and __repr__ methods in Python are special (dunder) methods used to define how objects should be converted to strings, but they serve different purposes and audiences:\n",
        "\n",
        "- __str__ method:\n",
        "\n",
        "Purpose: Provides a human-readable string representation of an object.\n",
        "\n",
        "When used: Called by the str() function, print() function, and string formatting methods.\n",
        "\n",
        "Target audience: End users—meant for displaying clear, concise, and readable information about the object.\n",
        "\n",
        "Example use: Displaying a user-friendly summary of an object’s state, such as a person’s name and age.\n",
        "\n",
        "- __repr__ method:\n",
        "\n",
        "Purpose: Provides an unambiguous, detailed string representation of an object, often useful for debugging and development.\n",
        "\n",
        "When used: Called by the repr() function and when the object is echoed in the interactive interpreter (REPL).\n",
        "\n",
        "Target audience: Developers—meant for providing information that could ideally be used to recreate the object.\n"
      ]
    },
    {
      "cell_type": "code",
      "execution_count": null,
      "id": "470663fa",
      "metadata": {
        "id": "470663fa"
      },
      "outputs": [],
      "source": [
        "class Student:\n",
        "    def __init__(self):\n",
        "        self.phone = 999999999\n",
        "    def __str__(self): #__str__  will return a string representation of object\n",
        "        return \"This method overloads the print statement of object\""
      ]
    },
    {
      "cell_type": "code",
      "execution_count": null,
      "id": "41bf20f6",
      "metadata": {
        "id": "41bf20f6"
      },
      "outputs": [],
      "source": [
        "class MyClass:\n",
        "    def __init__(self, z):\n",
        "        self.z = z\n",
        "    def __repr__(self):\n",
        "        return f\"MyClass({self.z})\""
      ]
    },
    {
      "cell_type": "markdown",
      "id": "a06d17f4",
      "metadata": {
        "id": "a06d17f4"
      },
      "source": [
        "Que 20. What is the significance of the ‘super()’ function in Python?\n",
        "\n",
        "ANS : The super() function in Python is significant because it allows a subclass to access methods and properties of its parent (superclass) in a way that respects Python’s method resolution order (MRO), especially important in cases of multiple inheritance.\n",
        "\n",
        "Key points about super():\n",
        "\n",
        "Accessing Parent Methods: super() enables you to call a method from the parent class within a subclass, so you can extend or modify inherited behavior without rewriting code.\n",
        "\n",
        "Avoiding Hardcoding Parent Names: By using super(), you avoid explicitly naming the parent class, making your code more maintainable and adaptable to changes in the class hierarchy.\n",
        "\n",
        "Cooperative Multiple Inheritance: In multiple inheritance scenarios, super() ensures that all parent classes’ methods are called in the correct order according to the MRO, preventing issues like missing method calls or inconsistent behavior.\n",
        "\n",
        "Usage Example: Commonly used within the __init__ method to ensure parent class initialization is performed before the subclass adds or modifies attributes."
      ]
    },
    {
      "cell_type": "code",
      "execution_count": null,
      "id": "4cba9864",
      "metadata": {
        "id": "4cba9864"
      },
      "outputs": [],
      "source": [
        "class Parent:\n",
        "    def __init__(self, value):\n",
        "        self.value = value\n",
        "\n",
        "class Child(Parent):\n",
        "    def __init__(self, value, extra):\n",
        "        super().__init__(value)  # Calls Parent.__init__()\n",
        "        self.extra = extra\n"
      ]
    },
    {
      "cell_type": "markdown",
      "id": "52f9ce0b",
      "metadata": {
        "id": "52f9ce0b"
      },
      "source": [
        "Que 21. What is the significance of the __del__ method in Python?\n",
        "\n",
        "ANS : The __del__ method in Python is a special method, sometimes referred to as a destructor, that is called just before an object is garbage-collected—that is, when there are no more references to the object in the program. Its primary purpose is to define cleanup actions that should be performed when an object is about to be destroyed, such as closing files, releasing network connections, or freeing up other resources.\n",
        "\n",
        "Key points about __del__:\n",
        "\n",
        "Not Guaranteed Timing: The method is not called immediately when an object goes out of scope or when the del statement is used; it is called only when the garbage collector decides to collect the object, which may be unpredictable.\n",
        "\n",
        "Resource Management: It is commonly used to ensure that resources are released appropriately before an object is destroyed.\n",
        "\n",
        "Exception Handling: Exceptions raised in __del__ are ignored and will not be propagated, but they can cause the program to terminate in some cases, so it is best to handle exceptions within the method.\n",
        "\n",
        "Circular References: If objects are involved in reference cycles, the garbage collector may fail to collect them, and the __del__ method might not be called at all.\n",
        "\n",
        "Not Opposite of __init__: While __init__ is called when an object is created, __del__ is not its strict counterpart; it is called as part of the object's destruction process."
      ]
    },
    {
      "cell_type": "markdown",
      "id": "f4a4f3fd",
      "metadata": {
        "id": "f4a4f3fd"
      },
      "source": [
        "Que 22.  What is the difference between @staticmethod and @classmethod in Python?\n",
        "\n",
        "ANS : The difference between @staticmethod and @classmethod in Python centers on how each method interacts with the class and its instances:\n",
        "\n",
        "@classmethod\n",
        "\n",
        "First Parameter: Takes the class itself as the first argument, conventionally named cls.\n",
        "\n",
        "Access: Can access and modify class-level attributes and methods.\n",
        "\n",
        "Use Cases: Used for factory methods (alternative constructors), class-level operations, or when you need to access or modify class state."
      ]
    },
    {
      "cell_type": "code",
      "execution_count": null,
      "id": "99186b2c",
      "metadata": {
        "id": "99186b2c"
      },
      "outputs": [],
      "source": [
        "class MyClass:\n",
        "    @classmethod\n",
        "    def class_method(cls):\n",
        "        print(f\"Called class method on {cls.__name__}\")"
      ]
    },
    {
      "cell_type": "markdown",
      "id": "456f11fb",
      "metadata": {
        "id": "456f11fb"
      },
      "source": [
        "@staticmethod\n",
        "\n",
        "First Parameter: Does not take any special first parameter (neither self nor cls).\n",
        "\n",
        "Access: Cannot access or modify class or instance state; behaves like a regular function but is scoped within the class.\n",
        "\n",
        "Use Cases: Used for utility functions that are logically related to the class but do not need access to class or instance data."
      ]
    },
    {
      "cell_type": "code",
      "execution_count": null,
      "id": "3d786aa4",
      "metadata": {
        "id": "3d786aa4"
      },
      "outputs": [],
      "source": [
        "class MyClass:\n",
        "    @staticmethod\n",
        "    def static_method():\n",
        "        print(\"Called static method\")"
      ]
    },
    {
      "cell_type": "markdown",
      "id": "2991c7ef",
      "metadata": {
        "id": "2991c7ef"
      },
      "source": [
        "Que. 23 How does polymorphism work in Python with inheritance?\n",
        "\n",
        "ANS : Polymorphism in Python, when combined with inheritance, allows child classes to share method names with their parent class and to provide their own specific implementations—a concept known as method overriding. This means different objects can be treated as instances of the same base class, yet each can respond differently to the same method call, depending on their actual class.\n",
        "\n",
        "How it works:\n",
        "\n",
        "Inheritance: A child class inherits methods and attributes from its parent class.\n",
        "\n",
        "Method Overriding: The child class can redefine (override) a method inherited from the parent class to provide specialized behavior.\n",
        "\n",
        "Common Interface: Code can treat objects of different child classes as objects of the parent class, and when a method is called, Python automatically invokes the appropriate implementation based on the object’s actual type.\n",
        "\n",
        "Dynamic Method Dispatch: At runtime, Python determines which method to execute based on the object’s class, enabling flexible and extensible code."
      ]
    },
    {
      "cell_type": "code",
      "execution_count": null,
      "id": "8fc7ea5c",
      "metadata": {
        "id": "8fc7ea5c",
        "outputId": "769a82f2-749d-4939-81ce-f182e120e265"
      },
      "outputs": [
        {
          "name": "stdout",
          "output_type": "stream",
          "text": [
            "Some generic sound\n",
            "Bark\n",
            "Meow\n"
          ]
        }
      ],
      "source": [
        "# Example :\n",
        "\n",
        "class Animal:\n",
        "    def sound(self):\n",
        "        print(\"Some generic sound\")\n",
        "\n",
        "class Dog(Animal):\n",
        "    def sound(self):\n",
        "        print(\"Bark\")\n",
        "\n",
        "class Cat(Animal):\n",
        "    def sound(self):\n",
        "        print(\"Meow\")\n",
        "\n",
        "animals = [Animal(), Dog(), Cat()]\n",
        "for animal in animals:\n",
        "    animal.sound()\n"
      ]
    },
    {
      "cell_type": "markdown",
      "id": "393577d5",
      "metadata": {
        "id": "393577d5"
      },
      "source": [
        "Que 24. What is method chaining in Python OOP?\n",
        "\n",
        "ANS :\n",
        "Method chaining in Python OOP is a programming technique that allows you to call multiple methods on an object in a single, continuous line of code. This is achieved by having each method return the object itself (typically using return self) so that subsequent methods can be called on the result of the previous one.\n",
        "\n",
        "How Method Chaining Works:\n",
        "\n",
        "Each method modifies the object or performs an operation and then returns the object itself.\n",
        "\n",
        "You can chain method calls using the dot operator, one after another in the same line.\n",
        "\n",
        "This eliminates the need for intermediate variables and often makes the code more concise and readable."
      ]
    },
    {
      "cell_type": "code",
      "execution_count": null,
      "id": "cff0e49e",
      "metadata": {
        "id": "cff0e49e",
        "outputId": "166778da-77fd-4877-8b43-befada5fd854"
      },
      "outputs": [
        {
          "name": "stdout",
          "output_type": "stream",
          "text": [
            "30\n"
          ]
        }
      ],
      "source": [
        "class Calculator:\n",
        "    def __init__(self, value):\n",
        "        self.value = value\n",
        "    def add(self, num):\n",
        "        self.value += num\n",
        "        return self\n",
        "    def multiply(self, num):\n",
        "        self.value *= num\n",
        "        return self\n",
        "\n",
        "result = Calculator(10).add(5).multiply(2).value\n",
        "print(result)"
      ]
    },
    {
      "cell_type": "markdown",
      "id": "155ec9f0",
      "metadata": {
        "id": "155ec9f0"
      },
      "source": [
        "Que 25.  What is the purpose of the __call__ method in Python?\n",
        "\n",
        "ANS : The __call__ method in Python allows instances of a class to be called like functions. When you define __call__ in a class, its instances become callable objects—meaning you can use parentheses to invoke them just as you do with regular functions.\n",
        "\n",
        "Key points about __call__:\n",
        "\n",
        "Enables Callable Instances: An object with a __call__ method can be invoked using object(), similar to how you call a function.\n",
        "\n",
        "Maintains State: Since the object is callable, it can maintain state between calls via instance attributes, unlike regular functions (unless you use mutable default arguments or closures).\n",
        "\n",
        "Flexible Arguments: The __call__ method can accept any number of arguments, just like other instance methods.\n",
        "\n",
        "Use Cases: Useful for objects that need to be invoked with arguments or need to keep track of internal state across invocations, such as function-like objects, callbacks, or objects that emulate functions."
      ]
    },
    {
      "cell_type": "code",
      "execution_count": null,
      "id": "75bbda2a",
      "metadata": {
        "id": "75bbda2a",
        "outputId": "aae2ab27-8f3e-4358-9319-d43c562c98ad"
      },
      "outputs": [
        {
          "name": "stdout",
          "output_type": "stream",
          "text": [
            "15\n"
          ]
        }
      ],
      "source": [
        "class Adder:\n",
        "    def __init__(self, n):\n",
        "        self.n = n\n",
        "    def __call__(self, x):\n",
        "        return self.n + x\n",
        "\n",
        "add5 = Adder(5)\n",
        "print(add5(10))"
      ]
    },
    {
      "cell_type": "markdown",
      "id": "44f3cdd4",
      "metadata": {
        "id": "44f3cdd4"
      },
      "source": [
        "Python OOPS Practical Questions:"
      ]
    },
    {
      "cell_type": "markdown",
      "id": "53df7e07",
      "metadata": {
        "id": "53df7e07"
      },
      "source": [
        "1. Create a parent class Animal with a method speak() that prints a generic message. Create a child class Dog\n",
        "that overrides the speak() method to print \"Bark!\"."
      ]
    },
    {
      "cell_type": "code",
      "execution_count": null,
      "id": "db00052a",
      "metadata": {
        "id": "db00052a",
        "outputId": "e5cf1174-033b-4ad2-f345-a99650bf1397"
      },
      "outputs": [
        {
          "name": "stdout",
          "output_type": "stream",
          "text": [
            "Some generic speak\n",
            "Bark!\n"
          ]
        }
      ],
      "source": [
        "class Animal:\n",
        "    def speak(self):\n",
        "        print(\"Some generic speak\")\n",
        "\n",
        "class Dog(Animal):\n",
        "    def speak(self):\n",
        "        print(\"Bark!\")\n",
        "\n",
        "obj = [Animal(), Dog()]\n",
        "for i in obj:\n",
        "    i.speak()\n"
      ]
    },
    {
      "cell_type": "markdown",
      "id": "d5e2fe45",
      "metadata": {
        "id": "d5e2fe45"
      },
      "source": [
        "2. Write a program to create an abstract class Shape with a method area(). Derive classes Circle and Rectangle\n",
        "from it and implement the area() method in both."
      ]
    },
    {
      "cell_type": "code",
      "execution_count": null,
      "id": "6e9e6eb9",
      "metadata": {
        "id": "6e9e6eb9",
        "outputId": "806a4557-2c9f-456b-ab34-6bc23e612b9c"
      },
      "outputs": [
        {
          "name": "stdout",
          "output_type": "stream",
          "text": [
            "Area of Circle: 78.5\n",
            "Area of Rectangle: 15\n"
          ]
        }
      ],
      "source": [
        "import abc\n",
        "class Shape:\n",
        "\n",
        "    @abc.abstractmethod\n",
        "    def area(self):\n",
        "        pass\n",
        "\n",
        "class Circle(Shape):\n",
        "    def __init__(self, radius):\n",
        "        self.radius = radius\n",
        "\n",
        "    def area(self):\n",
        "        return 3.14 * (self.radius ** 2)\n",
        "\n",
        "class Rectangle(Shape):\n",
        "    def __init__(self, length, width):\n",
        "        self.length = length\n",
        "        self.width = width\n",
        "\n",
        "    def area(self):\n",
        "        return self.length * self.width\n",
        "\n",
        "# Example usage\n",
        "c = Circle(5)\n",
        "print(\"Area of Circle:\", c.area())\n",
        "\n",
        "r = Rectangle(3, 5)\n",
        "print(\"Area of Rectangle:\", r.area())\n"
      ]
    },
    {
      "cell_type": "markdown",
      "id": "2f696b0e",
      "metadata": {
        "id": "2f696b0e"
      },
      "source": [
        "3. Implement a multi-level inheritance scenario where a class Vehicle has an attribute type. Derive a class Car\n",
        "and further derive a class ElectricCar that adds a battery attribute."
      ]
    },
    {
      "cell_type": "code",
      "execution_count": null,
      "id": "25458a20",
      "metadata": {
        "id": "25458a20",
        "outputId": "aeb3b0bc-8347-4cdd-bc6e-be32c21ccfdd"
      },
      "outputs": [
        {
          "name": "stdout",
          "output_type": "stream",
          "text": [
            "Type: Electric\n",
            "Model: Tesla Model 3\n",
            "Battery: 75 kWh\n"
          ]
        }
      ],
      "source": [
        "class Vehicle:\n",
        "    def __init__(self, vehicle_type):\n",
        "        self.type = vehicle_type\n",
        "\n",
        "class Car(Vehicle):\n",
        "    def __init__(self, vehicle_type, model):\n",
        "        super().__init__(vehicle_type)\n",
        "        self.model = model\n",
        "\n",
        "class ElectricCar(Car):\n",
        "    def __init__(self, vehicle_type, model, battery):\n",
        "        super().__init__(vehicle_type, model)\n",
        "        self.battery = battery\n",
        "\n",
        "ev = ElectricCar(\"Electric\", \"Tesla Model 3\", \"75 kWh\")\n",
        "print(\"Type:\", ev.type)\n",
        "print(\"Model:\", ev.model)\n",
        "print(\"Battery:\", ev.battery)\n"
      ]
    },
    {
      "cell_type": "markdown",
      "id": "fcebb7be",
      "metadata": {
        "id": "fcebb7be"
      },
      "source": [
        "4. Demonstrate polymorphism by creating a base class Bird with a method fly(). Create two derived classes\n",
        "Sparrow and Penguin that override the fly() method.\n"
      ]
    },
    {
      "cell_type": "code",
      "execution_count": null,
      "id": "35ac88e8",
      "metadata": {
        "id": "35ac88e8",
        "outputId": "58502503-3e95-40cd-aeff-aa420630d3ba"
      },
      "outputs": [
        {
          "name": "stdout",
          "output_type": "stream",
          "text": [
            "A Bird can fly.\n",
            "Sparrow fly high in sky.\n",
            "Penguin cannot fly, but it can swim.\n"
          ]
        }
      ],
      "source": [
        "class Bird:\n",
        "    def fly(self):\n",
        "        print(\"A Bird can fly.\")\n",
        "\n",
        "class Sparrow(Bird):\n",
        "    def fly(self):\n",
        "        print(\"Sparrow fly high in sky.\")\n",
        "\n",
        "class Penguin(Bird):\n",
        "    def fly(self):\n",
        "        print(\"Penguin cannot fly, but it can swim.\")\n",
        "\n",
        "birds = [Bird(), Sparrow(), Penguin()]\n",
        "for i in birds:\n",
        "    i.fly()"
      ]
    },
    {
      "cell_type": "markdown",
      "id": "4f064249",
      "metadata": {
        "id": "4f064249"
      },
      "source": [
        "5. Write a program to demonstrate encapsulation by creating a class BankAccount with private attributes\n",
        "balance and methods to deposit, withdraw, and check balance."
      ]
    },
    {
      "cell_type": "code",
      "execution_count": null,
      "id": "b6d1040b",
      "metadata": {
        "id": "b6d1040b",
        "outputId": "c36d70cf-3faf-4f6d-eab7-27eceeb0396c"
      },
      "outputs": [
        {
          "data": {
            "text/plain": [
              "109000"
            ]
          },
          "execution_count": 49,
          "metadata": {},
          "output_type": "execute_result"
        }
      ],
      "source": [
        "class Bank:\n",
        "\n",
        "    def __init__(self, balance):\n",
        "        self.__balance = balance\n",
        "\n",
        "    def deposit(self, amount):\n",
        "        self.__balance = self.__balance + amount\n",
        "\n",
        "    def withdraw(self, amount):\n",
        "        if self.__balance >= amount:\n",
        "            self.__balance = self.__balance - amount\n",
        "            return True\n",
        "        else:\n",
        "            return False\n",
        "\n",
        "    def check_balance(self):\n",
        "        return self.__balance\n",
        "\n",
        "acc = Bank(100000)\n",
        "acc.deposit(13000)\n",
        "acc.withdraw(4000)\n",
        "acc.check_balance()"
      ]
    },
    {
      "cell_type": "markdown",
      "id": "f3e4f2e4",
      "metadata": {
        "id": "f3e4f2e4"
      },
      "source": [
        "6. Demonstrate runtime polymorphism using a method play() in a base class Instrument. Derive classes Guitar\n",
        "and Piano that implement their own version of play()."
      ]
    },
    {
      "cell_type": "code",
      "execution_count": null,
      "id": "66c899ea",
      "metadata": {
        "id": "66c899ea",
        "outputId": "e4062e20-3d3b-4c0d-f810-46995120c57e"
      },
      "outputs": [
        {
          "name": "stdout",
          "output_type": "stream",
          "text": [
            "Instrument can play music\n",
            "Guitar is playing music\n",
            "Piano is playing music\n"
          ]
        }
      ],
      "source": [
        "class Instrument:\n",
        "    def play(self):\n",
        "        print(\"Instrument can play music\")\n",
        "\n",
        "class Guitar(Instrument):\n",
        "    def play(self):\n",
        "        print(\"Guitar is playing music\")\n",
        "\n",
        "class Piano(Instrument):\n",
        "    def play(self):\n",
        "        print(\"Piano is playing music\")\n",
        "\n",
        "instruments = [Instrument(), Guitar(), Piano()]\n",
        "for i in instruments:\n",
        "    i.play()"
      ]
    },
    {
      "cell_type": "markdown",
      "id": "11ade3fb",
      "metadata": {
        "id": "11ade3fb"
      },
      "source": [
        "7. Create a class MathOperations with a class method add_numbers() to add two numbers and a static\n",
        "method subtract_numbers() to subtract two numbers."
      ]
    },
    {
      "cell_type": "code",
      "execution_count": null,
      "id": "483a8f5d",
      "metadata": {
        "id": "483a8f5d",
        "outputId": "7cea9e8e-e647-46dd-8125-612710994bcb"
      },
      "outputs": [
        {
          "name": "stdout",
          "output_type": "stream",
          "text": [
            "Addition: 15\n",
            "Subtraction: 5\n"
          ]
        }
      ],
      "source": [
        "class MathOperations:\n",
        "    @classmethod\n",
        "    def add_numbers(cls, a, b):\n",
        "        return a + b\n",
        "\n",
        "    @staticmethod\n",
        "    def subtract_numbers(a, b):\n",
        "        return a - b\n",
        "\n",
        "print(\"Addition:\", MathOperations.add_numbers(10, 5))\n",
        "print(\"Subtraction:\", MathOperations.subtract_numbers(10, 5))\n"
      ]
    },
    {
      "cell_type": "markdown",
      "id": "e2e32b61",
      "metadata": {
        "id": "e2e32b61"
      },
      "source": [
        "8. Implement a class Person with a class method to count the total number of persons created."
      ]
    },
    {
      "cell_type": "code",
      "execution_count": null,
      "id": "62651351",
      "metadata": {
        "id": "62651351",
        "outputId": "210b9889-4bf1-40ee-d7c9-843bbfa546b2"
      },
      "outputs": [
        {
          "name": "stdout",
          "output_type": "stream",
          "text": [
            "Total persons created: 3\n"
          ]
        }
      ],
      "source": [
        "class Person:\n",
        "    count = 0\n",
        "\n",
        "    def __init__(self, name):\n",
        "        self.name = name\n",
        "        Person.count += 1\n",
        "\n",
        "    @classmethod\n",
        "    def get_total_persons(cls):\n",
        "        return cls.count\n",
        "\n",
        "p1 = Person(\"Alice\")\n",
        "p2 = Person(\"Bob\")\n",
        "p3 = Person(\"Mark\")\n",
        "print(\"Total persons created:\", Person.get_total_persons())"
      ]
    },
    {
      "cell_type": "markdown",
      "id": "af04e0fc",
      "metadata": {
        "id": "af04e0fc"
      },
      "source": [
        "9. Write a class Fraction with attributes numerator and denominator. Override the str method to display the\n",
        "fraction as \"numerator/denominator\"."
      ]
    },
    {
      "cell_type": "code",
      "execution_count": null,
      "id": "4382498d",
      "metadata": {
        "id": "4382498d",
        "outputId": "a24f46e6-aba6-46d7-f567-ac634dd60ff1"
      },
      "outputs": [
        {
          "name": "stdout",
          "output_type": "stream",
          "text": [
            "3/4\n"
          ]
        }
      ],
      "source": [
        "class Fraction:\n",
        "    def __init__(self, numerator, denominator):\n",
        "        self.numerator = numerator\n",
        "        self.denominator = denominator\n",
        "\n",
        "    def __str__(self):\n",
        "        return f\"{self.numerator}/{self.denominator}\"\n",
        "\n",
        "f = Fraction(3, 4)\n",
        "print(f)"
      ]
    },
    {
      "cell_type": "markdown",
      "id": "0614c030",
      "metadata": {
        "id": "0614c030"
      },
      "source": [
        "10. Demonstrate operator overloading by creating a class Vector and overriding the add method to add two\n",
        "vectors."
      ]
    },
    {
      "cell_type": "code",
      "execution_count": null,
      "id": "b5a59125",
      "metadata": {
        "id": "b5a59125",
        "outputId": "a6a20492-3312-4810-8dfc-773a5ebd33fa"
      },
      "outputs": [
        {
          "name": "stdout",
          "output_type": "stream",
          "text": [
            "Vector(27, 7)\n"
          ]
        }
      ],
      "source": [
        "class Vector:\n",
        "    def __init__(self, p, y):\n",
        "        self.p = p\n",
        "        self.y = y\n",
        "\n",
        "    def __add__(self, other):\n",
        "        new_p = self.p + other.p\n",
        "        new_y = self.y + other.y\n",
        "        return Vector(new_p, new_y)\n",
        "\n",
        "    def __str__(self):\n",
        "        return f\"Vector({self.p}, {self.y})\"\n",
        "\n",
        "v1 = Vector(23, 3)\n",
        "v2 = Vector(4, 4)\n",
        "v3 = v1 + v2\n",
        "print(v3)"
      ]
    },
    {
      "cell_type": "markdown",
      "id": "bb64e259",
      "metadata": {
        "id": "bb64e259"
      },
      "source": [
        "11. Create a class Person with attributes name and age. Add a method greet() that prints \"Hello, my name is\n",
        "{name} and I am {age} years old.\""
      ]
    },
    {
      "cell_type": "code",
      "execution_count": null,
      "id": "a31edff3",
      "metadata": {
        "id": "a31edff3",
        "outputId": "3d8fd9f9-df24-4ccd-88b2-278f7b29d9df"
      },
      "outputs": [
        {
          "name": "stdout",
          "output_type": "stream",
          "text": [
            "Hello, my name is Alice and I am 30 years old.\n"
          ]
        }
      ],
      "source": [
        "class Person:\n",
        "    def __init__(self, name, age):\n",
        "        self.name = name\n",
        "        self.age = age\n",
        "\n",
        "    def greet(self):\n",
        "        print(f\"Hello, my name is {self.name} and I am {self.age} years old.\")\n",
        "\n",
        "p = Person(\"Alice\", 30)\n",
        "p.greet()"
      ]
    },
    {
      "cell_type": "markdown",
      "id": "c4d5d843",
      "metadata": {
        "id": "c4d5d843"
      },
      "source": [
        "12. Implement a class Student with attributes name and grades. Create a method average_grade() to compute\n",
        "the average of the grades."
      ]
    },
    {
      "cell_type": "code",
      "execution_count": null,
      "id": "d14bd661",
      "metadata": {
        "id": "d14bd661",
        "outputId": "f15f7223-e8e3-4c52-a731-7ede40ddbfe4"
      },
      "outputs": [
        {
          "name": "stdout",
          "output_type": "stream",
          "text": [
            "Rohan's average grade is: 85.400\n"
          ]
        }
      ],
      "source": [
        "class Student:\n",
        "    def __init__(self, name, grades):\n",
        "        self.name = name\n",
        "        self.grades = grades\n",
        "\n",
        "    def average_grade(self):\n",
        "        return sum(self.grades) / len(self.grades)\n",
        "\n",
        "s = Student(\"Rohan\", [73, 93, 84, 90, 87])\n",
        "print(f\"{s.name}'s average grade is: {s.average_grade():.3f}\")\n"
      ]
    },
    {
      "cell_type": "markdown",
      "id": "40529ce3",
      "metadata": {
        "id": "40529ce3"
      },
      "source": [
        "13. Create a class Rectangle with methods set_dimensions() to set the dimensions and area() to calculate the\n",
        "area."
      ]
    },
    {
      "cell_type": "code",
      "execution_count": null,
      "id": "a6942589",
      "metadata": {
        "id": "a6942589",
        "outputId": "0d182979-0616-4b02-9c3e-91a0ff200bd8"
      },
      "outputs": [
        {
          "name": "stdout",
          "output_type": "stream",
          "text": [
            "Area of the rectangle: 25\n"
          ]
        }
      ],
      "source": [
        "class Rectangle:\n",
        "    def __init__(self, length=0, width=0):\n",
        "        self.length = length\n",
        "        self.width = width\n",
        "\n",
        "    def set_dimensions(self, length, width):\n",
        "        self.length = length\n",
        "        self.width = width\n",
        "\n",
        "    def area(self):\n",
        "        return self.length * self.width\n",
        "\n",
        "r = Rectangle()\n",
        "r.set_dimensions(5, 5)\n",
        "print(\"Area of the rectangle:\", r.area())\n"
      ]
    },
    {
      "cell_type": "markdown",
      "id": "e25a884c",
      "metadata": {
        "id": "e25a884c"
      },
      "source": [
        "14. Create a class Employee with a method calculate_salary() that computes the salary based on hours worked\n",
        "and hourly rate. Create a derived class Manager that adds a bonus to the salary."
      ]
    },
    {
      "cell_type": "code",
      "execution_count": null,
      "id": "122a5f6f",
      "metadata": {
        "id": "122a5f6f",
        "outputId": "b31db4e0-3685-41c9-91f4-d31d0d1236c6"
      },
      "outputs": [
        {
          "name": "stdout",
          "output_type": "stream",
          "text": [
            "Employee salary: 750\n",
            "Manager salary: 1450\n"
          ]
        }
      ],
      "source": [
        "class Employee:\n",
        "    def __init__(self, hours_worked, hourly_rate):\n",
        "        self.hours_worked = hours_worked\n",
        "        self.hourly_rate = hourly_rate\n",
        "\n",
        "    def calculate_salary(self):\n",
        "        return self.hours_worked * self.hourly_rate\n",
        "\n",
        "class Manager(Employee):\n",
        "    def __init__(self, hours_worked, hourly_rate, bonus):\n",
        "        super().__init__(hours_worked, hourly_rate)\n",
        "        self.bonus = bonus\n",
        "\n",
        "    def calculate_salary(self):\n",
        "        base_salary = super().calculate_salary()\n",
        "        return base_salary + self.bonus\n",
        "\n",
        "\n",
        "e = Employee(30, 25)\n",
        "print(\"Employee salary:\", e.calculate_salary())\n",
        "\n",
        "m = Manager(30, 25, 700)\n",
        "print(\"Manager salary:\", m.calculate_salary())\n"
      ]
    },
    {
      "cell_type": "markdown",
      "id": "85893f24",
      "metadata": {
        "id": "85893f24"
      },
      "source": [
        "15. Create a class Product with attributes name, price, and quantity. Implement a method total_price() that\n",
        "calculates the total price of the product."
      ]
    },
    {
      "cell_type": "code",
      "execution_count": null,
      "id": "b0391e0c",
      "metadata": {
        "id": "b0391e0c",
        "outputId": "1a2e753a-7cd8-4bfc-d029-80e5b3e4eaa1"
      },
      "outputs": [
        {
          "name": "stdout",
          "output_type": "stream",
          "text": [
            "Total price for Laptop: ₹140000\n"
          ]
        }
      ],
      "source": [
        "class Product:\n",
        "    def __init__(self, name, price, quantity):\n",
        "        self.name = name\n",
        "        self.price = price\n",
        "        self.quantity = quantity\n",
        "\n",
        "    def total_price(self):\n",
        "        return self.price * self.quantity\n",
        "\n",
        "p = Product(\"Laptop\", 70000, 2)\n",
        "print(f\"Total price for {p.name}: ₹{p.total_price()}\")\n"
      ]
    },
    {
      "cell_type": "markdown",
      "id": "a66b6453",
      "metadata": {
        "id": "a66b6453"
      },
      "source": [
        "16. Create a class Animal with an abstract method sound(). Create two derived classes Cow and Sheep that\n",
        "implement the sound() method."
      ]
    },
    {
      "cell_type": "code",
      "execution_count": null,
      "id": "50e12c7d",
      "metadata": {
        "id": "50e12c7d",
        "outputId": "d44f4851-27fb-45bb-8c21-cd3d99605cbd"
      },
      "outputs": [
        {
          "name": "stdout",
          "output_type": "stream",
          "text": [
            "Moo!\n",
            "Baa!\n"
          ]
        }
      ],
      "source": [
        "from abc import ABC, abstractmethod\n",
        "\n",
        "class Animal(ABC):\n",
        "    @abstractmethod\n",
        "    def sound(self):\n",
        "        pass\n",
        "\n",
        "class Cow(Animal):\n",
        "    def sound(self):\n",
        "        print(\"Moo!\")\n",
        "\n",
        "class Sheep(Animal):\n",
        "    def sound(self):\n",
        "        print(\"Baa!\")\n",
        "\n",
        "c = Cow()\n",
        "s = Sheep()\n",
        "c.sound()\n",
        "s.sound()\n"
      ]
    },
    {
      "cell_type": "markdown",
      "id": "dafb9be4",
      "metadata": {
        "id": "dafb9be4"
      },
      "source": [
        "17. Create a class Book with attributes title, author, and year_published. Add a method get_book_info() that\n",
        "returns a formatted string with the book's details"
      ]
    },
    {
      "cell_type": "code",
      "execution_count": null,
      "id": "45b9978c",
      "metadata": {
        "id": "45b9978c",
        "outputId": "87fbd42c-7817-4e47-e40f-e6c6561424f7"
      },
      "outputs": [
        {
          "name": "stdout",
          "output_type": "stream",
          "text": [
            "Title: Python Programming, Author: Guido van Rossum, Year Published: 1991\n"
          ]
        }
      ],
      "source": [
        "class Book:\n",
        "    def __init__(self, title, author, year_published):\n",
        "        self.title = title\n",
        "        self.author = author\n",
        "        self.year_published = year_published\n",
        "\n",
        "    def get_book_info(self):\n",
        "        return f\"Title: {self.title}, Author: {self.author}, Year Published: {self.year_published}\"\n",
        "\n",
        "\n",
        "b = Book(\"Python Programming\", \"Guido van Rossum\", 1991)\n",
        "print(b.get_book_info())\n"
      ]
    },
    {
      "cell_type": "markdown",
      "id": "41523907",
      "metadata": {
        "id": "41523907"
      },
      "source": [
        "18. Create a class House with attributes address and price. Create a derived class Mansion that adds an\n",
        "attribute number_of_rooms."
      ]
    },
    {
      "cell_type": "code",
      "execution_count": null,
      "id": "c72cef81",
      "metadata": {
        "id": "c72cef81",
        "outputId": "575ab330-57e3-41c0-8f4b-2de5559b0a21"
      },
      "outputs": [
        {
          "name": "stdout",
          "output_type": "stream",
          "text": [
            "Address: 123 Elite Lane\n",
            "Price: 50000000\n",
            "Number of rooms: 15\n"
          ]
        }
      ],
      "source": [
        "class House:\n",
        "    def __init__(self, address, price):\n",
        "        self.address = address\n",
        "        self.price = price\n",
        "\n",
        "class Mansion(House):\n",
        "    def __init__(self, address, price, number_of_rooms):\n",
        "        super().__init__(address, price)\n",
        "        self.number_of_rooms = number_of_rooms\n",
        "\n",
        "m = Mansion(\"123 Elite Lane\", 50000000, 15)\n",
        "print(\"Address:\", m.address)\n",
        "print(\"Price:\", m.price)\n",
        "print(\"Number of rooms:\", m.number_of_rooms)\n"
      ]
    },
    {
      "cell_type": "markdown",
      "id": "f638c601",
      "metadata": {
        "id": "f638c601"
      },
      "source": []
    }
  ],
  "metadata": {
    "kernelspec": {
      "display_name": "Python 3",
      "language": "python",
      "name": "python3"
    },
    "language_info": {
      "codemirror_mode": {
        "name": "ipython",
        "version": 3
      },
      "file_extension": ".py",
      "mimetype": "text/x-python",
      "name": "python",
      "nbconvert_exporter": "python",
      "pygments_lexer": "ipython3",
      "version": "3.13.3"
    },
    "colab": {
      "provenance": []
    }
  },
  "nbformat": 4,
  "nbformat_minor": 5
}